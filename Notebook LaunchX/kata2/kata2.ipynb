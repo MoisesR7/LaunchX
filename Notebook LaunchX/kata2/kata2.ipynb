{
 "cells": [
  {
   "cell_type": "markdown",
   "metadata": {},
   "source": [
    "Crear un entorno virtual\n"
   ]
  },
  {
   "cell_type": "code",
   "execution_count": null,
   "metadata": {},
   "outputs": [],
   "source": [
    "python3 -m venv env"
   ]
  },
  {
   "cell_type": "markdown",
   "metadata": {},
   "source": [
    "Dato curioso: Si estás desde un notebook se ejecuta así: !pip install python-dateutil Con signo de admiración al inicio. Sin embargo, no estamos trabajando con notebooks ahorita, estamos ejecutando todo por terminal (consola, bash, cli, cmd, como sea que le digas).\n",
    "\n",
    "  # Bash | Consola\n",
    "  pip install python-dateutil\n",
    "Si ejecutas el comando anterior, descargará e instalará dateutil, un paquete para analizar el formato de archivo .yml. Después de instalar el paquete, puedes verlo en la lista si expande el directorio lib en env, así:\n",
    "\n",
    "# Mensaje de salida en consola\n",
    "  /env\n",
    "    /lib\n",
    "      /dateutil\n",
    "Para ver qué paquetes están ahora instalados en tu entorno virtual, puedes ejecutar pip freeze. Este comando produce una lista de paquetes instalados en el terminal:\n",
    "\n",
    "Recuerda: Si deseas instalar un paquete desde un notebook se ejecuta con signo de admiración al inicio. !pip freeze Sin embargo, no estamos trabajando con notebooks ahorita, estamos ejecutando todo por terminal (consola, bash, cli, cmd, como sea que le digas).\n",
    "\n",
    "# Mensaje de salida en consola\n",
    "  python-dateutil==2.8.2\n",
    "  six==1.16.0\n",
    "Contiene algo más que sólo pipdate por que en sí misma se basan otras bibliotecas.\n",
    "\n",
    "Para asegurarte de que estos paquetes solo existen en tu entorno virtual, intenta salir de ese entorno llamando al comando deactivate:\n",
    "\n",
    "  # Bash | Consola\n",
    "  deactivate\n",
    "Observa cómo cambia el mensaje de la terminal. Ya no está precedido por (env) y ha regresado a su estado anterior:\n",
    "\n",
    "  # Bash | Consola\n",
    "  path/to/project\n",
    "Si ejecutas el comando pip freeze, verás una lista mucho más larga de dependencias. Esta lista indica que verás todos los paquetes instalados en tu máquina en lugar de solo lo que está instalado en tu entorno virtual.\n",
    "\n",
    "Más formas de instalar un paquete\n",
    "También puedes utilizar los siguientes comandos para instalar un paquete:\n",
    "\n",
    "Teniendo un conjunto de archivos en tu máquina e instalándolos desde esa fuente:\n",
    "\n",
    "# Bash | Consola\n",
    "cd <to where the package is on your machine>\n",
    "python3 -m pip install .\n",
    "Instalar desde un repositorio de GitHub que nos proporciona el control de versiones:\n",
    "\n",
    "git+https://github.com/your-repo.git\n",
    "Instalar desde un archivo comprimido:\n",
    "\n",
    "python3 -m pip install package.tar.gz"
   ]
  },
  {
   "cell_type": "code",
   "execution_count": null,
   "metadata": {},
   "outputs": [],
   "source": []
  },
  {
   "cell_type": "code",
   "execution_count": null,
   "metadata": {},
   "outputs": [],
   "source": []
  },
  {
   "cell_type": "markdown",
   "metadata": {},
   "source": [
    "Asegúrate de tener un directorio para tus archivos. Te sugerimos que llames al directorio (folder) src y agregues un archivo Python llamado app.py. Ahora agrega un poco de código para llamar al comando pipdate:"
   ]
  },
  {
   "cell_type": "code",
   "execution_count": null,
   "metadata": {},
   "outputs": [],
   "source": [
    " from datetime import *\n",
    "  from dateutil.relativedelta import *\n",
    "  now = datetime.now()\n",
    "  print(now)\n",
    "\n",
    "  now = now + relativedelta(months=1, weeks=1, hour=10)\n",
    "\n",
    "  print(now)"
   ]
  }
 ],
 "metadata": {
  "interpreter": {
   "hash": "63fd5069d213b44bf678585dea6b12cceca9941eaf7f819626cde1f2670de90d"
  },
  "kernelspec": {
   "display_name": "Python 3.9.6 64-bit",
   "language": "python",
   "name": "python3"
  },
  "language_info": {
   "name": "python",
   "version": "3.9.6"
  },
  "orig_nbformat": 4
 },
 "nbformat": 4,
 "nbformat_minor": 2
}
